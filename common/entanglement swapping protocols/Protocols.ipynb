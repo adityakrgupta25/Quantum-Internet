{
  "nbformat": 4,
  "nbformat_minor": 0,
  "metadata": {
    "kernelspec": {
      "display_name": "Python 3",
      "language": "python",
      "name": "python3"
    },
    "language_info": {
      "codemirror_mode": {
        "name": "ipython",
        "version": 3
      },
      "file_extension": ".py",
      "mimetype": "text/x-python",
      "name": "python",
      "nbconvert_exporter": "python",
      "pygments_lexer": "ipython3",
      "version": "3.7.4"
    },
    "colab": {
      "name": "Protocols.ipynb",
      "provenance": [],
      "collapsed_sections": []
    }
  },
  "cells": [
    {
      "cell_type": "markdown",
      "metadata": {
        "id": "_rrIB0ZyYaqo",
        "colab_type": "text"
      },
      "source": [
        "#### A simple model of the hardware: a chain of $n$ simple repeaters\n",
        "\n",
        "    r[1] ---- r[2] ---- r[3] ---- ... ---- r[n]\n",
        "    \n",
        "A simple repeater: a repeater that can support 2 links that both have the same lifetime; and has ideal gates (applying gates on the qubits does not affect lifetimes)."
      ]
    },
    {
      "cell_type": "code",
      "metadata": {
        "id": "j5fVAajvYaqq",
        "colab_type": "code",
        "colab": {}
      },
      "source": [
        "from threading import Timer\n",
        "import random\n",
        "from IPython.display import clear_output\n",
        "\n",
        "\n",
        "# Helper function: flips an unfair coin.\n",
        "def flip_unfair_coin(p):\n",
        "    return 'H' if random.random() < p else 'T'\n",
        "    \n",
        "    \n",
        "class simple_repeater(object):\n",
        "    # Constructor.\n",
        "    def __init__(self, id, link_lifetime = 1, link_creation_time = 0.005, parent_chain = None):\n",
        "        # The repeater id.\n",
        "        self.id = id\n",
        "        # The lifetime of the links, specifically the time in which right link expires\n",
        "        self.link_lifetime = link_lifetime\n",
        "        # The time needed to establish a link.\n",
        "        self.link_creation_time = link_creation_time\n",
        "        # The probability that a link is create successfully.\n",
        "        self.link_creation_prob = 1\n",
        "        # Repeaters/nodes to the right and to the left.\n",
        "        # They are simple_repeater objects.\n",
        "        # None means the link is not alive.\n",
        "        self.rightNode = None\n",
        "        self.leftNode  = None\n",
        "        # Timers to keep track of the alive time of each link.\n",
        "        self.rightLinkTimer = None\n",
        "        self.leftLinkTimer = None\n",
        "        self.rightLinkTimerStart=None\n",
        "        # Repeater chain in which the repeater is embedded.\n",
        "        self.parent_chain = parent_chain\n",
        "        # The repeater's queued tasks.\n",
        "#         self.task_queue = []\n",
        "\n",
        "    # Link repeater to another one sitting somewhere on its right.\n",
        "    def create_right_link_helper(self, other,expire_time=None):\n",
        "        self.rightNode = other\n",
        "        other.leftNode = self\n",
        "        # Start expiry timer.\n",
        "        if expire_time is not None:\n",
        "          self.rightLinkTimer = Timer(expire_time, self.right_link_expires)\n",
        "          self.link_lifetime=expire_time\n",
        "        else:\n",
        "          self.rightLinkTimer = Timer(self.link_lifetime, self.right_link_expires)\n",
        "        self.rightLinkTimerStart=time.time()\n",
        "        self.rightLinkTimer.start()\n",
        "        if self.parent_chain.GUI_enabled:\n",
        "            self.parent_chain.GUI.update_gui(self.parent_chain.pack_snapshot())\n",
        "        else:\n",
        "            print(\"link created between \" + self.id + \" and \" + self.rightNode.id)\n",
        "            # Check for success.\n",
        "            if self.parent_chain.success():\n",
        "               print(\"Success!\") \n",
        "            \n",
        "    def create_right_link(self, other):\n",
        "        # Creating a link is probabilistic.\n",
        "        if flip_unfair_coin(self.link_creation_prob) == 'H':\n",
        "            # And takes time.\n",
        "            Timer(self.link_creation_time, self.create_right_link_helper, [other]).start()\n",
        "    \n",
        "#     # Link repeater to another one sitting somewhere on its left.\n",
        "#     def create_left_link_helper(self, other):\n",
        "#         self.leftNode = other\n",
        "#         other.rightNode = self\n",
        "#         self.leftLinkTimer = Timer(self.link_lifetime, self.left_link_expires)\n",
        "#         self.leftLinkTimer.start()\n",
        "#         if self.parent_chain.GUI is not None:\n",
        "#             self.parent_chain.GUI.update_gui(self.parent_chain.pack_snapshot())\n",
        "            \n",
        "#     def create_left_link(self, other):\n",
        "#         if flip_unfair_coin(self.link_creation_prob) == 'H':\n",
        "#             Timer(self.link_creation_time, self.create_left_link_helper, [other]).start()\n",
        "        \n",
        "    # Right link dies.\n",
        "    def right_link_expires(self):\n",
        "        if self.rightNode is not None:\n",
        "            self.rightNode.leftNode = None\n",
        "            self.rightNode = None\n",
        "            self.rightLinkTimer = None\n",
        "            if self.parent_chain.GUI_enabled:\n",
        "                self.parent_chain.GUI.update_gui(self.parent_chain.pack_snapshot())\n",
        "        \n",
        "    # Left link dies.\n",
        "    def left_link_expires(self):\n",
        "        if self.leftNode is not None:\n",
        "            self.leftNode.rightNode = None\n",
        "            self.leftNode = None\n",
        "            self.leftLinkTimer = None\n",
        "            if self.parent_chain.GUI_enabled:\n",
        "                self.parent_chain.GUI.update_gui(self.parent_chain.pack_snapshot())\n",
        "\n",
        "    # Perform entanglement swap.\n",
        "    def swap(self):\n",
        "#         print(\"Swapping in repeater\", self.id)\n",
        "        if self.leftNode is not None and self.rightNode is not None:\n",
        "            #time in which self.leftNode--self will expire, ie the qubits will decohere\n",
        "            left_qb_expiry=self.leftNode.link_lifetime-(time.time()-self.leftNode.rightLinkTimerStart)\n",
        "            #time in which self--self.rightNode will expire, ie the qubits will decohere\n",
        "            right_qb_expiry=self.link_lifetime-(time.time()-self.rightLinkTimerStart)\n",
        "            #the connection self.leftNode--self.rightNode will expire in the min of the above times\n",
        "            connection_expiry=min(left_qb_expiry,right_qb_expiry)\n",
        "            self.leftNode.create_right_link_helper(self.rightNode,connection_expiry)\n",
        "            # Change link states to not alive.\n",
        "            self.rightNode = None\n",
        "            self.leftNode  = None\n",
        "            if self.parent_chain.GUI_enabled:\n",
        "                self.parent_chain.GUI.update_gui(self.parent_chain.pack_snapshot())\n",
        "            \n",
        "     \n",
        "\n",
        "class simple_repeater_chain(object):\n",
        "    def __init__(self, length = 5, link_lifetime = 1, link_creation_time = 0.005,\n",
        "                 GUI_enabled = False, repeater_type=simple_repeater):\n",
        "        self.length = length\n",
        "        self.link_lifetime = link_lifetime\n",
        "        self.link_creation_time = link_creation_time\n",
        "        self.link_creation_prob = 1\n",
        "        # Initialize the repeaters.\n",
        "        self.repeaters = []\n",
        "        for i in range(self.length):\n",
        "            new_repeater = repeater_type(str(i), link_lifetime, link_creation_time, self)\n",
        "            self.repeaters.append(new_repeater)\n",
        "        # Initialize the GUI.\n",
        "        self.GUI_enabled = GUI_enabled\n",
        "        if self.GUI_enabled:\n",
        "            self.GUI = GUI()\n",
        "#             self.GUI.draw_state(self.pack_snapshot())\n",
        "            \n",
        "    def success(self):\n",
        "        if self.repeaters[0].rightNode is None:\n",
        "            return False\n",
        "        return self.repeaters[0].rightNode.id == self.repeaters[-1].id\n",
        "\n",
        "    # Says which link each link is connected to.\n",
        "    def pack_snapshot(self):\n",
        "        snapshot = []  \n",
        "        for repeater in self.repeaters:\n",
        "            if repeater.rightNode is not None:\n",
        "                snapshot.append(repeater.rightNode.id)\n",
        "            else:\n",
        "                # -1 means it's not linked to any repeaters.\n",
        "                snapshot.append(-1)\n",
        "#         print(snapshot)\n",
        "        return snapshot\n",
        "\n",
        "    \n",
        "\n",
        "# GUI (not finished yet)\n",
        "class GUI(object):\n",
        "    def __init__(self):\n",
        "        self.request_queue = []\n",
        "        self.busy = False\n",
        "        \n",
        "    def draw_state(self, state):\n",
        "        t1 = \"\"\n",
        "        t2 = \"\"\n",
        "        s = \"\"\n",
        "        for i in range(len(state)):\n",
        "#             s = s + \"r\" + \"[\" + str(i+1) + \"]\"\n",
        "            s = s + \"r\"\n",
        "            if i < len(state) - 1:\n",
        "                if int(state[i]) == i + 1:\n",
        "                    s += \" ---- \"\n",
        "                    t1 += \"  \" + \"    \" + \" \"\n",
        "                    t2 += \"  \" + \"    \" + \" \"\n",
        "                else:\n",
        "                    s += \"      \"\n",
        "                    if state[i] != -1:\n",
        "                        t1 += \" /\" + (int(state[i])-i-1) * (\"    \" + \"   \") + \"    \" + \"\\\\\"\n",
        "                        t2 += \"  \" + (int(state[i])-i-1) * (\"----\" + \"---\") + \"----\" + \" \"\n",
        "                    else: \n",
        "                        t1 += \"  \" + \"    \" + \" \"\n",
        "                        t2 += \"  \" + \"    \" + \" \"\n",
        "        if int(state[0]) == len(state)-1:\n",
        "            s += \"       Success!\"\n",
        "        clear_output(wait = True)\n",
        "        print(t2)\n",
        "        print(t1)\n",
        "        print(s)\n",
        "        \n",
        "    def update_gui(self, new_state):\n",
        "        self.request_queue.append(new_state)\n",
        "        if self.busy == False:\n",
        "            self.get_busy()\n",
        "        \n",
        "    def get_busy(self):\n",
        "        self.busy = True\n",
        "        while len(self.request_queue) > 0:\n",
        "            new_state = self.request_queue.pop(0)\n",
        "            self.draw_state(new_state)\n",
        "        self.busy = False "
      ],
      "execution_count": 0,
      "outputs": []
    },
    {
      "cell_type": "code",
      "metadata": {
        "id": "Yp7yE6Kaa5f7",
        "colab_type": "code",
        "colab": {}
      },
      "source": [
        "class repeater_v2(simple_repeater):\n",
        "  def __init__(self, id, link_lifetime = 1, link_creation_time = 0.005, parent_chain = None):\n",
        "    \n",
        "    super().__init__(id, link_lifetime, link_creation_time, \n",
        "                      parent_chain)\n",
        "    self.link_creation_prob = 0.9\n",
        "  def create_right_link_helper(self, other,expire_time=None):\n",
        "      # Creating a link is probabilistic. returns True if successful.\n",
        "      should_create = flip_unfair_coin(self.link_creation_prob) == 'H'\n",
        "      if should_create:\n",
        "        super().create_right_link_helper(other,expire_time)\n",
        "        return True\n",
        "      else:\n",
        "        return False \n",
        "  \n",
        "  def create_right_link(self, other, retry=True, retry_count=3):\n",
        "      retry_count = retry_count if retry else 1\n",
        "      for _ in range(retry_count):\n",
        "          # Creating link takes time.\n",
        "          if self.rightNode is None:\n",
        "            success = self.create_right_link_helper(other)\n",
        "            if success:\n",
        "              return\n",
        "            time.sleep(self.link_creation_time)\n",
        "          self.parent_chain.indicate_link_failiure([self, other])\n",
        "    \n",
        "  # Right link dies.\n",
        "  def right_link_expires(self):\n",
        "    if self.rightNode is not None:\n",
        "      other = self.rightNode\n",
        "      super().right_link_expires()\n",
        "      # self.parent_chain.indicate_link_failiure([self, other]) // yet to decide if the link expires, will it be same as link failiure?\n",
        "        \n",
        "  # Left link dies.\n",
        "  def left_link_expires(self):\n",
        "    if self.leftNode is not None:\n",
        "      other = self.leftNode\n",
        "      super().left_link_expires()\n",
        "        # self.parent_chain.indicate_link_failiure([self, other]) \n",
        "\n",
        "\n",
        "class repeater_v2_chain(simple_repeater_chain):\n",
        "  STATE_INIT, STATE_ACTIVE, STATE_BROKEN = 'INIT', 'ACTIVE', 'BROKE' \n",
        "  \n",
        "  def __init__(self, length = 5, link_lifetime = 1, link_creation_time = 0.005, GUI_enabled = False):\n",
        "    super().__init__(length, link_lifetime, link_creation_time, GUI_enabled, repeater_type=repeater_v2)\n",
        "\n",
        "    # self.failed_links = [] #In future version of this protocol we can make use of the failed links to re-route.\n",
        "    self.state = self.STATE_INIT\n",
        "\n",
        "\n",
        "  def indicate_link_failiure(self, repeaters):\n",
        "      \"\"\"Repeaters should call this function to indicate link creation failiure.\n",
        "       We can add broadcast function in future to inform all nodes that they can free resources since complete link was not established. \n",
        "      \"\"\"\n",
        "      # self.failed_links.append(repeaters)\n",
        "      self.state = self.STATE_BROKEN\n",
        "      print(f'Link creation failiure at: {repeaters[0].id}-{repeaters[1].id}.')\n",
        "\n",
        "  def make_chain_active(self):\n",
        "    if self.state != self.STATE_BROKEN:\n",
        "      self.state = self.STATE_ACTIVE\n",
        "\n",
        "  def is_active(self):\n",
        "    return self.state == self.STATE_ACTIVE"
      ],
      "execution_count": 0,
      "outputs": []
    },
    {
      "cell_type": "markdown",
      "metadata": {
        "id": "iWRHmaqcYaqw",
        "colab_type": "text"
      },
      "source": [
        "#### Our goal is to end up with the first and last repeaters --- they are really nodes --- in the chain entangled."
      ]
    },
    {
      "cell_type": "markdown",
      "metadata": {
        "id": "cXdencKUYaqx",
        "colab_type": "text"
      },
      "source": [
        "#### Here's a possible protocol"
      ]
    },
    {
      "cell_type": "code",
      "metadata": {
        "id": "xOwWe6vfYaqx",
        "colab_type": "code",
        "colab": {}
      },
      "source": [
        "import time\n",
        "\n",
        "# Try once to establish all links, starting from the leftmost repeater. Then swap them one by one.\n",
        "def protocol1(simple_repeater_chain):\n",
        "    # Create links\n",
        "    for i in range(len(simple_repeater_chain.repeaters)-1):\n",
        "        this_repeater = simple_repeater_chain.repeaters[i]\n",
        "        next_repeater = simple_repeater_chain.repeaters[i+1]\n",
        "        this_repeater.create_right_link(next_repeater)\n",
        "        # Wait a bit\n",
        "        time.sleep(this_repeater.link_creation_time)\n",
        "    # Perform swap.\n",
        "    for repeater in simple_repeater_chain.repeaters:\n",
        "        repeater.swap()\n",
        "        # Wait a bit\n",
        "        time.sleep(repeater.link_creation_time)"
      ],
      "execution_count": 0,
      "outputs": []
    },
    {
      "cell_type": "markdown",
      "metadata": {
        "id": "dN-w78P9Yaq0",
        "colab_type": "text"
      },
      "source": [
        "#### Let's test it\n",
        "Play with the parameters and see what happens!"
      ]
    },
    {
      "cell_type": "code",
      "metadata": {
        "id": "-4Dfg9U1Yaq1",
        "colab_type": "code",
        "outputId": "f07eb327-6b6b-45e5-fe8a-bf86d9b2cff6",
        "colab": {
          "base_uri": "https://localhost:8080/",
          "height": 68
        }
      },
      "source": [
        "chain = simple_repeater_chain(length = 8, link_lifetime = 5, link_creation_time = 0.5, \n",
        "                              GUI_enabled = True)\n",
        "\n",
        "\n",
        "protocol1(chain)"
      ],
      "execution_count": 6,
      "outputs": [
        {
          "output_type": "stream",
          "text": [
            "                                                 \n",
            "                                                 \n",
            "r      r      r      r      r      r      r      r\n"
          ],
          "name": "stdout"
        }
      ]
    },
    {
      "cell_type": "markdown",
      "metadata": {
        "id": "9JRg2zg62fOR",
        "colab_type": "text"
      },
      "source": [
        "#### Protocol 2\n",
        "Here is an alternate protocol that attempts to establish connection between nodes 0 and i+1 as soon as connection between 0 and i is established. This ensures that the first established link does not expire by the time connection between the last two nodes is established"
      ]
    },
    {
      "cell_type": "code",
      "metadata": {
        "id": "_oKEL7h4Yaq5",
        "colab_type": "code",
        "colab": {}
      },
      "source": [
        "def protocol2(simple_repeater_chain):\n",
        "  for i in range(len(simple_repeater_chain.repeaters)-1):\n",
        "    this_repeater = simple_repeater_chain.repeaters[i]\n",
        "    next_repeater = simple_repeater_chain.repeaters[i+1]\n",
        "    # print(\"creating right link from i=\",i)\n",
        "    this_repeater.create_right_link(next_repeater)\n",
        "    # Wait a bit\n",
        "    time.sleep(this_repeater.link_creation_time)\n",
        "    #perform swap if it is not the first node\n",
        "    if(i!=0):\n",
        "      # print(\"doing swap at i=\",i)\n",
        "      this_repeater.swap()\n",
        "      # Wait a bit\n",
        "      time.sleep(this_repeater.link_creation_time)"
      ],
      "execution_count": 0,
      "outputs": []
    },
    {
      "cell_type": "markdown",
      "metadata": {
        "id": "ATBcT-AuZ8A7",
        "colab_type": "text"
      },
      "source": [
        "#### Testing protocol2"
      ]
    },
    {
      "cell_type": "code",
      "metadata": {
        "id": "uhppAd4SaTCP",
        "colab_type": "code",
        "outputId": "196055b8-5fcd-4933-f0ed-408e003a6192",
        "colab": {
          "base_uri": "https://localhost:8080/",
          "height": 68
        }
      },
      "source": [
        "chain = simple_repeater_chain(length = 8, link_lifetime = 5, link_creation_time = 0.5,\n",
        "                              GUI_enabled = True)\n",
        "\n",
        "\n",
        "protocol2(chain)"
      ],
      "execution_count": 41,
      "outputs": [
        {
          "output_type": "stream",
          "text": [
            "                --------------------------------                             \n",
            "               /                                \\                            \n",
            "r      r      r      r      r      r      r      r\n"
          ],
          "name": "stdout"
        }
      ]
    },
    {
      "cell_type": "markdown",
      "metadata": {
        "id": "cA73v3hVwHGg",
        "colab_type": "text"
      },
      "source": [
        "#### Protocol 1.1\n",
        "\n",
        "This protocol improves upon Protocol 1 by:\n",
        "* Only allowing swapping if the complete chain is ready.\n",
        "* Inform all the repeaters at once to create link. \n",
        "\n",
        "##### Protocol definition\n",
        "* Inform all the nodes at once which node they need to link with (can be done classically) and then wait for the time it would take maximum possible retries to complete.\n",
        "\n",
        "* Incase link creation fails, repeaters retry link creation. If all attempts for link creation fail, repeaters can inform parent chain/broadcast that the link creation  failed or link expired. If Parent chain receives information on link creation failiure, link is considered in broken state.\n",
        "\n",
        "* If no error was received until the (retries allowed * link_creation_time) seconds, the link is made active.\n",
        "\n",
        "* Start `swap()` operations  and keep swapping if the chain is in Active State.\n",
        "\n",
        "(PS. please use this protocol with GUI_enabled=False, does not work well with GUI)\n",
        " "
      ]
    },
    {
      "cell_type": "code",
      "metadata": {
        "id": "uipOvtdhelQr",
        "colab_type": "code",
        "colab": {}
      },
      "source": [
        "def protocol1_1(repeater_chain):\n",
        "    # Create links\n",
        "    retries = 3\n",
        "    for i in range(len(repeater_chain.repeaters)-1):\n",
        "        # Inform all the repeaters simaltaneously whom they'll be linking up with.\n",
        "        this_repeater = repeater_chain.repeaters[i]\n",
        "        next_repeater = repeater_chain.repeaters[i+1]\n",
        "        this_repeater.create_right_link(next_repeater, retry_count=retries)\n",
        "\n",
        "    # Wait for a repeaters to indicate to `Parent Chain` if they failed in creating the link.\n",
        "    time.sleep(repeater_chain.link_creation_time * retries)\n",
        "    repeater_chain.make_chain_active() # If no failiures, make active.\n",
        "    \n",
        "    # Perform swap.\n",
        "    for repeater in repeater_chain.repeaters:\n",
        "        if repeater_chain.is_active():\n",
        "          repeater.swap()\n",
        "          # Wait a bit\n",
        "          time.sleep(repeater.link_creation_time)"
      ],
      "execution_count": 0,
      "outputs": []
    },
    {
      "cell_type": "markdown",
      "metadata": {
        "id": "1uJMH6nO5hv2",
        "colab_type": "text"
      },
      "source": [
        "*italicized text*"
      ]
    },
    {
      "cell_type": "code",
      "metadata": {
        "id": "6w59xFmme8KL",
        "colab_type": "code",
        "outputId": "ead1a50c-49f1-44bd-ca42-42e665c91c41",
        "colab": {
          "base_uri": "https://localhost:8080/",
          "height": 255
        }
      },
      "source": [
        "chain = repeater_v2_chain(length = 8, link_lifetime = 5, link_creation_time = 0.5, GUI_enabled = False, )\n",
        "chain.link_creation_prob = 1\n",
        "protocol1_1(chain)"
      ],
      "execution_count": 44,
      "outputs": [
        {
          "output_type": "stream",
          "text": [
            "link created between 0 and 1\n",
            "link created between 1 and 2\n",
            "link created between 2 and 3\n",
            "link created between 3 and 4\n",
            "link created between 4 and 5\n",
            "link created between 5 and 6\n",
            "link created between 6 and 7\n",
            "link created between 0 and 2\n",
            "link created between 0 and 3\n",
            "link created between 0 and 4\n",
            "link created between 0 and 5\n",
            "link created between 0 and 6\n",
            "link created between 0 and 7\n",
            "Success!\n"
          ],
          "name": "stdout"
        }
      ]
    },
    {
      "cell_type": "code",
      "metadata": {
        "id": "GU3G79EV1XaI",
        "colab_type": "code",
        "colab": {
          "base_uri": "https://localhost:8080/",
          "height": 170
        },
        "outputId": "8774bc0d-bf2b-4982-8354-aa7c60baad23"
      },
      "source": [
        "\n",
        "def protocol1_2(repeater_chain, subchain_size=5):\n",
        "    # Create links\n",
        "    retries = 3\n",
        "    for start_id in range(0, len(repeater_chain.repeaters)-1, subchain_size):\n",
        "      stop_id = min(start_id + subchain_size, len(repeater_chain.repeaters))-1\n",
        "      for  i in range(start_id, subchain_size):\n",
        "          # Inform all the repeaters in a batch simaltaneously whom they'll be linking up with.\n",
        "          this_repeater = repeater_chain.repeaters[i]\n",
        "          next_repeater = repeater_chain.repeaters[i+1]\n",
        "          this_repeater.create_right_link(next_repeater, retry_count=retries)\n",
        "\n",
        "      # Wait for a repeaters to indicate to `Parent Chain` if they failed in creating the link.\n",
        "      time.sleep(repeater_chain.link_creation_time * retries)\n",
        "      repeater_chain.make_chain_active() # If no failiures, make active.\n",
        "\n",
        "      # Perform swap.\n",
        "      sublink_success = True\n",
        "      for repeater in repeater_chain.repeaters:\n",
        "          if repeater_chain.is_active():\n",
        "            repeater.swap()\n",
        "            # Wait a bit\n",
        "            time.sleep(repeater.link_creation_time)\n",
        "          else:\n",
        "            sublink_success = False \n",
        "      if not sublink_success:\n",
        "        print(f\"Swapping failed at sublink between {start_id} -- {stop_id}\")\n",
        "        return\n",
        "      else:\n",
        "        last_id = stop_id + 1\n",
        "        if not last_id == len(repeater_chain.repeaters)-1:\n",
        "          this_repeater = repeater_chain.repeaters[last_id]\n",
        "          next_repeater = repeater_chain.repeaters[last_id+1]\n",
        "\n",
        "\n",
        "\n",
        "long_chain = repeater_v2_chain(length = 20, link_lifetime = 5, link_creation_time = 0.5, GUI_enabled = False,)\n",
        "protocol1_2(long_chain)"
      ],
      "execution_count": 0,
      "outputs": [
        {
          "output_type": "stream",
          "text": [
            "link created between 0 and 1\n",
            "link created between 1 and 2\n",
            "link created between 2 and 3\n",
            "link created between 3 and 4\n",
            "link created between 4 and 5\n",
            "link created between 0 and 2\n",
            "link created between 0 and 3\n",
            "link created between 0 and 4\n",
            "link created between 0 and 5\n"
          ],
          "name": "stdout"
        }
      ]
    },
    {
      "cell_type": "code",
      "metadata": {
        "id": "QI0vE1JY3d0k",
        "colab_type": "code",
        "colab": {}
      },
      "source": [
        ""
      ],
      "execution_count": 0,
      "outputs": []
    }
  ]
}